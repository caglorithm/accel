{
 "cells": [
  {
   "cell_type": "code",
   "execution_count": 180,
   "metadata": {},
   "outputs": [],
   "source": [
    "import time\n",
    "import numpy as np\n",
    "import pyaudio \n",
    "import matplotlib.pyplot as plt\n",
    "\n",
    "class AudioStimulus():\n",
    "    def __init__(self):\n",
    "        self.PyAudio = pyaudio.PyAudio\n",
    "        self.bitrate = 48000\n",
    "        self.isActive = False\n",
    "        \n",
    "    def generate_waveform(self,):\n",
    "        sound_len = 6.68 # second\n",
    "        waveform = np.ndarray((int(sound_len * self.bitrate)), dtype=np.float32)\n",
    "        base_fr = 40.0\n",
    "        f1 = base_fr\n",
    "        f2 = base_fr + 0.75    \n",
    "\n",
    "        # generate waveform\n",
    "        for i in range(len(waveform)):\n",
    "            frac = 1 + i / len(waveform)\n",
    "            waveform[i] = np.sin(f1 * i / self.bitrate * 2 * np.pi) + np.sin(f2 * i / self.bitrate * 2 * np.pi + np.pi) \n",
    "        waveform /= np.max(waveform) # normalize    \n",
    "        return waveform\n",
    "\n",
    "    def play_audio(self,waveform):\n",
    "        p = self.PyAudio()\n",
    "        stream = p.open(format = pyaudio.paFloat32, \n",
    "                        channels = 1, \n",
    "                        rate = int(self.bitrate), \n",
    "                        output = True)\n",
    "        while self.isActive:\n",
    "            print(\"Play stimulus.\")\n",
    "            stream.write(waveform, num_frames = len(waveform))\n",
    "            time.sleep(0.5)\n",
    "        self.isActive = False\n",
    "        stream.stop_stream()\n",
    "        stream.close()\n",
    "        p.terminate()\n",
    "    \n",
    "    def start_stimulus(self):\n",
    "        self.isActive = True\n",
    "        import threading\n",
    "        x = threading.Thread()\n",
    "        x = threading.Thread(target=self.play_audio, args=(self.generate_waveform(),))\n",
    "        x.start()\n",
    "\n",
    "    def stop_stimulus(self):\n",
    "        self.isActive = False\n",
    "        print(\"Stop stimulus.\")\n",
    "    \n",
    "    def plot_stimulus(self):\n",
    "        plt.plot(self.generate_waveform()[:], c='k')\n",
    "        plt.show()"
   ]
  },
  {
   "cell_type": "code",
   "execution_count": 181,
   "metadata": {},
   "outputs": [],
   "source": [
    "audiostim = AudioStimulus()"
   ]
  },
  {
   "cell_type": "code",
   "execution_count": 177,
   "metadata": {},
   "outputs": [
    {
     "name": "stdout",
     "output_type": "stream",
     "text": [
      "Play stimulus.\n"
     ]
    }
   ],
   "source": [
    "audiostim.start_stimulus()"
   ]
  },
  {
   "cell_type": "code",
   "execution_count": 178,
   "metadata": {},
   "outputs": [
    {
     "name": "stdout",
     "output_type": "stream",
     "text": [
      "Stop stimulus.\n"
     ]
    }
   ],
   "source": [
    "audiostim.stop_stimulus()"
   ]
  },
  {
   "cell_type": "code",
   "execution_count": 182,
   "metadata": {},
   "outputs": [
    {
     "data": {
      "image/png": "[encoded data removed]",
      "text/plain": [
       "<Figure size 432x288 with 1 Axes>"
      ]
     },
     "metadata": {
      "needs_background": "light"
     },
     "output_type": "display_data"
    }
   ],
   "source": [
    "audiostim.plot_stimulus()"
   ]
  },
  {
   "cell_type": "code",
   "execution_count": 131,
   "metadata": {},
   "outputs": [],
   "source": [
    "linear_increase = np.linspace(0, 1, bitrate * 1)\n",
    "linear_decrease = np.linspace(1, 0, bitrate * 1)\n",
    "#waveform[:len(linear_increase) ] *= linear_increase\n",
    "#waveform[-len(linear_decrease):] *= linear_decrease"
   ]
  }
 ],
 "metadata": {
  "kernelspec": {
   "display_name": "Python 3",
   "language": "python",
   "name": "python3"
  },
  "language_info": {
   "codemirror_mode": {
    "name": "ipython",
    "version": 3
   },
   "file_extension": ".py",
   "mimetype": "text/x-python",
   "name": "python",
   "nbconvert_exporter": "python",
   "pygments_lexer": "ipython3",
   "version": "3.7.3"
  }
 },
 "nbformat": 4,
 "nbformat_minor": 4
}
